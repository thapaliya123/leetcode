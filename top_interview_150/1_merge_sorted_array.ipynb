{
 "cells": [
  {
   "cell_type": "markdown",
   "metadata": {},
   "source": [
    "### 88. Merge Sorted Array\n",
    "\n",
    "You are given two integer arrays nums1 and nums2, sorted in non-decreasing order, and two integers m and n, representing the number of elements in nums1 and nums2 respectively.\n",
    "\n",
    "Merge nums1 and nums2 into a single array sorted in non-decreasing order.\n",
    "\n",
    "The final sorted array should not be returned by the function, but instead be stored inside the array nums1. To accommodate this, nums1 has a length of m + n, where the first m elements denote the elements that should be merged, and the last n elements are set to 0 and should be ignored. nums2 has a length of n.\n",
    "\n",
    "```\n",
    "\n",
    "Example 1:\n",
    "\n",
    "Input: nums1 = [1,2,3,0,0,0], m = 3, nums2 = [2,5,6], n = 3\n",
    "Output: [1,2,2,3,5,6]\n",
    "Explanation: The arrays we are merging are [1,2,3] and [2,5,6].\n",
    "The result of the merge is [1,2,2,3,5,6] with the underlined elements coming from nums1.\n",
    "\n",
    "Example 2:\n",
    "\n",
    "Input: nums1 = [1], m = 1, nums2 = [], n = 0\n",
    "Output: [1]\n",
    "Explanation: The arrays we are merging are [1] and [].\n",
    "The result of the merge is [1].\n",
    "\n",
    "Example 3:\n",
    "\n",
    "Input: nums1 = [0], m = 0, nums2 = [1], n = 1\n",
    "Output: [1]\n",
    "Explanation: The arrays we are merging are [] and [1].\n",
    "The result of the merge is [1].\n",
    "Note that because m = 0, there are no elements in nums1. The 0 is only there to ensure the merge result can fit in nums1.\n",
    "```\n",
    "\n",
    "Constraints:\n",
    "- nums1.length == m + n\n",
    "- nums2.length == n\n",
    "- 0 <= m, n <= 200\n",
    "- 1 <= m + n <= 200\n",
    "- -10^9 <= nums1[i], nums2[j] <= 10^9\n",
    "\n",
    "Follow up: Can you come up with an algorithm that runs in O(m + n) time?"
   ]
  },
  {
   "cell_type": "code",
   "execution_count": null,
   "metadata": {},
   "outputs": [],
   "source": [
    "from typing import List\n",
    "\n",
    "class Solution:\n",
    "    def merge(self, nums1: List[int], m: int, nums2: List[int], n: int) -> None:\n",
    "        \"\"\"\n",
    "        Do not return anything, modify nums1 in-place instead.\n",
    "        \"\"\"\n",
    "        for i in range(m, m+n):\n",
    "            nums1[i] = nums2[i-m]       \n",
    "\n",
    "        for i in range(len(nums1)-1):\n",
    "            for j in range(i+1, len(nums1)):\n",
    "                if nums1[i] > nums1[j]:\n",
    "                    temp = nums1[j]\n",
    "                    nums1[j] = nums1[i]\n",
    "                    nums1[i] = temp\n",
    "\n",
    "        print(nums1)\n",
    "\n",
    "sol = Solution()\n",
    "sol.merge([1,2,3,0,0,0], 3, [2,5,6], 3) # [1,2,2,3,5,6]\n",
    "# sol.merge([1], 1, [], 0) # [1]\n",
    "# sol.merge([0], 0, [1], 1) # [1]"
   ]
  },
  {
   "cell_type": "markdown",
   "metadata": {},
   "source": [
    "**Analysis:**\n",
    "- This does not replace inplace (leetcode gave testcase error):\n",
    "    - nums1 = nums1[:m]\n",
    "    - nums1.extends(nums2)\n",
    "- Time Complexity:\n",
    "    - 1st loop runs m+n times, so it has time complexity: `O(m+n)`\n",
    "    - For sorting, it uses Bubble sort, so it has time complexity of `O((m+n)^2)`\n",
    "    - Since `O((m+n)^2)` dominates `O(m+n)` --> so it has total time complexity of `O((m+n)^2)`\n",
    "- While sorting it has 2 loops, it means this algorithm runs at O(m+n)^2 complexity"
   ]
  }
 ],
 "metadata": {
  "kernelspec": {
   "display_name": "Python 3",
   "language": "python",
   "name": "python3"
  },
  "language_info": {
   "name": "python",
   "version": "3.10.12"
  }
 },
 "nbformat": 4,
 "nbformat_minor": 2
}
