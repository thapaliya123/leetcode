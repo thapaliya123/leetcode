{
 "cells": [
  {
   "cell_type": "markdown",
   "metadata": {},
   "source": [
    "## 27. Remove Element ([leetcode_link](https://leetcode.com/problems/remove-element/description/?envType=study-plan-v2&envId=top-interview-150))\n",
    "\n",
    "Given an integer array nums and an integer val, remove all occurrences of val in nums in-place. The order of the elements may be changed. Then return the number of elements in nums which are not equal to val.\n",
    "\n",
    "\n",
    "Consider the number of elements in nums which are not equal to val be k, to get accepted, you need to do the following things:  \n",
    "- Change the array nums such that the first k elements of nums contain the elements which are not equal to val. The remaining elements of nums are not important as well as the size of nums.\n",
    "- Return k.\n",
    "\n",
    "Example 1:  \n",
    "Input: nums = [3,2,2,3], val = 3  \n",
    "Output: 2, nums = [2,2,_,_]  \n",
    "Explanation: Your function should return k = 2, with the first two elements of nums being 2.  \n",
    "It does not matter what you leave beyond the returned k (hence they are underscores).\n",
    "\n",
    "Example 2:  \n",
    "Input: nums = [0,1,2,2,3,0,4,2], val = 2  \n",
    "Output: 5, nums = [0,1,4,0,3,_,_,_]  \n",
    "Explanation: Your function should return k = 5, with the first five elements of nums containing 0, 0, 1, 3, and 4.  \n",
    "Note that the five elements can be returned in any order.  \n",
    "It does not matter what you leave beyond the returned k (hence they are underscores).\n",
    "\n",
    "\n",
    "**Constraints:**\n",
    "\n",
    "0 <= nums.length <= 100  \n",
    "0 <= nums[i] <= 50  \n",
    "0 <= val <= 100  "
   ]
  },
  {
   "cell_type": "markdown",
   "metadata": {},
   "source": [
    "**inplace algorithms**  \n",
    "- In computer science, an in-place algorithm is an algorithm that operates directly on the input data structure without requiring extra space proportional to the input size. In other words, it modifies the input in place, without creating a separate copy of the data structure. An algorithm which is not in-place is sometimes called not-in-place or out-of-place.\n",
    "\n",
    "- `pop()` delete operation in python list is an inplace operation"
   ]
  },
  {
   "cell_type": "code",
   "execution_count": 24,
   "metadata": {},
   "outputs": [
    {
     "name": "stdout",
     "output_type": "stream",
     "text": [
      "Case 1:\n",
      "2\n",
      "\n",
      "Case 2:\n",
      "5\n"
     ]
    }
   ],
   "source": [
    "from typing import List\n",
    "\n",
    "class Solution:\n",
    "    def removeElement(self, nums: List[int], val: int) -> int:\n",
    "        rm_cnt = 0\n",
    "        for idx in range(len(nums)):\n",
    "            if nums[idx] == val:\n",
    "                nums[idx] = 51\n",
    "                rm_cnt += 1\n",
    "        \n",
    "        # sorting the list\n",
    "        for i in range(len(nums)-1):\n",
    "            for j in range(i+1, len(nums)):\n",
    "                if nums[i] > nums[j]:\n",
    "                    temp = nums[j]\n",
    "                    nums[j] = nums[i]\n",
    "                    nums[i] = temp\n",
    "\n",
    "        return len(nums)-rm_cnt\n",
    "\n",
    "## Case 1:\n",
    "nums = [3,2,2,3]\n",
    "val = 3\n",
    "sol = Solution()\n",
    "k = sol.removeElement(nums, val)\n",
    "print(\"Case 1:\")\n",
    "print(k)\n",
    "\n",
    "## Case 2:\n",
    "nums = [0,1,2,2,3,0,4,2]\n",
    "val = 2\n",
    "sol = Solution()\n",
    "k = sol.removeElement(nums, val)\n",
    "print(\"\\nCase 2:\")\n",
    "print(k)"
   ]
  }
 ],
 "metadata": {
  "kernelspec": {
   "display_name": "Python 3",
   "language": "python",
   "name": "python3"
  },
  "language_info": {
   "codemirror_mode": {
    "name": "ipython",
    "version": 3
   },
   "file_extension": ".py",
   "mimetype": "text/x-python",
   "name": "python",
   "nbconvert_exporter": "python",
   "pygments_lexer": "ipython3",
   "version": "3.10.12"
  }
 },
 "nbformat": 4,
 "nbformat_minor": 2
}
